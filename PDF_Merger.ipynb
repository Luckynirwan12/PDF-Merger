{
  "nbformat": 4,
  "nbformat_minor": 0,
  "metadata": {
    "colab": {
      "provenance": [],
      "authorship_tag": "ABX9TyP65Ch8TMABwX2oVZWcOYNl",
      "include_colab_link": true
    },
    "kernelspec": {
      "name": "python3",
      "display_name": "Python 3"
    },
    "language_info": {
      "name": "python"
    }
  },
  "cells": [
    {
      "cell_type": "markdown",
      "metadata": {
        "id": "view-in-github",
        "colab_type": "text"
      },
      "source": [
        "<a href=\"https://colab.research.google.com/github/Luckynirwan12/PDF-Merger/blob/main/PDF_Merger.ipynb\" target=\"_parent\"><img src=\"https://colab.research.google.com/assets/colab-badge.svg\" alt=\"Open In Colab\"/></a>"
      ]
    },
    {
      "cell_type": "markdown",
      "source": [
        "## **PDF Merger**"
      ],
      "metadata": {
        "id": "wv88ho8KO0es"
      }
    },
    {
      "cell_type": "code",
      "execution_count": null,
      "metadata": {
        "colab": {
          "base_uri": "https://localhost:8080/"
        },
        "id": "0ZQn6b0-isgp",
        "outputId": "cc97547a-fd3f-4ae7-d55b-c8cdc65ce463"
      },
      "outputs": [
        {
          "output_type": "stream",
          "name": "stdout",
          "text": [
            "Requirement already satisfied: PyPDF2 in /usr/local/lib/python3.11/dist-packages (3.0.1)\n"
          ]
        }
      ],
      "source": [
        "# Install the PyPDF2, this is needed to read from and write to PDF files in Python\n",
        "!pip install PyPDF2"
      ]
    },
    {
      "cell_type": "code",
      "source": [
        "# Import PdfReader to read PDF files, and PdfWriter to create and write new PDF files\n",
        "from PyPDF2 import PdfReader, PdfWriter"
      ],
      "metadata": {
        "id": "sGmSLeZNiuc2"
      },
      "execution_count": null,
      "outputs": []
    },
    {
      "cell_type": "code",
      "source": [
        "# Define a function to merge multiple PDF files into one\n",
        "def merge_pdfs(input_pdfs, output_pdf):\n",
        "    # Create a PdfWriter object which will be used to write pages into a new PDF\n",
        "    pdf_writer =  PdfWriter()\n",
        "\n",
        "    # Loop through each input PDF file\n",
        "    for input_pdf in input_pdfs:\n",
        "        # Open the current PDF file in binary read mode\n",
        "        pdf_file = open(input_pdf, 'rb')\n",
        "\n",
        "        # Create a PdfReader object to read the PDF\n",
        "        pdf_reader =  PdfReader(pdf_file)\n",
        "\n",
        "        # Get the total number of pages in the PDF\n",
        "        num_pages = len(pdf_reader.pages)\n",
        "\n",
        "        # Loop through each page and add it to the writer object\n",
        "        for page in range(num_pages):\n",
        "            pdf_writer.add_page(pdf_reader.pages[page])\n",
        "\n",
        "        # Close the input PDF file after reading\n",
        "        pdf_file.close()\n",
        "\n",
        "    # Open the output file in binary write mode and write the combined PDF pages into it\n",
        "    with open(output_pdf, 'wb') as output_file:\n",
        "        pdf_writer.write(output_file)\n",
        "\n",
        "    # Print success message after merging\n",
        "    print(f\"✅ Successfully merged {len(input_pdfs)} PDF files into '{output_pdf}'.\")\n",
        "\n",
        "\n",
        "# Example usage of the function:\n",
        "\n",
        "# List of PDF files to be merged\n",
        "input_pdfs = [\"/content/part1.pdf\", \"/content/part2.pdf\"]\n",
        "\n",
        "# Name of the final merged PDF\n",
        "output_pdf = \"output.pdf\"\n",
        "\n",
        "# Call the function to merge the PDFs\n",
        "merge_pdfs(input_pdfs, output_pdf)"
      ],
      "metadata": {
        "colab": {
          "base_uri": "https://localhost:8080/"
        },
        "id": "hiImnZGmiuQX",
        "outputId": "ecb41554-ef02-4e3c-f6d6-f9a2235d2d22"
      },
      "execution_count": null,
      "outputs": [
        {
          "output_type": "stream",
          "name": "stdout",
          "text": [
            "✅ Successfully merged 2 PDF files into 'output.pdf'.\n"
          ]
        }
      ]
    }
  ]
}